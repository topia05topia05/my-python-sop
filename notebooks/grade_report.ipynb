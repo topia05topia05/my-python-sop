{
 "cells": [
  {
   "cell_type": "code",
   "execution_count": 1,
   "id": "a343224a",
   "metadata": {},
   "outputs": [],
   "source": [
    "import sys\n",
    "sys.path.append('../src')"
   ]
  },
  {
   "cell_type": "code",
   "execution_count": 2,
   "id": "9de568d3",
   "metadata": {},
   "outputs": [],
   "source": [
    "from grade_utils import analyze_grades"
   ]
  },
  {
   "cell_type": "code",
   "execution_count": 3,
   "id": "a68a1922",
   "metadata": {},
   "outputs": [
    {
     "name": "stdout",
     "output_type": "stream",
     "text": [
      "--- 成績分析結果 ---\n",
      "合計点: 385\n",
      "平均点: 77.0\n",
      "-----------------------------------\n",
      "| 名前      |   点数 |    平均との差 |\n",
      "-----------------------------------\n",
      "| Hanako  |   95 |    +18.0 |\n",
      "| Jiro    |   70 |     -7.0 |\n",
      "| Kazuto  |   50 |    -27.0 |\n",
      "| Sachiko |   90 |    +13.0 |\n",
      "| Taro    |   80 |     +3.0 |\n",
      "-----------------------------------\n"
     ]
    }
   ],
   "source": [
    "# 1. 分析したいデータを用意する\n",
    "today_records = {\n",
    "    \"Taro\": 80, \"Hanako\": 95, \"Jiro\": 70,\n",
    "    \"Sachiko\": 90, \"Kazuto\": 50\n",
    "}\n",
    "\n",
    "# 2. たった一行で、全ての分析を実行する\n",
    "analyze_grades(today_records)"
   ]
  },
  {
   "cell_type": "code",
   "execution_count": null,
   "id": "e3b1d357",
   "metadata": {},
   "outputs": [],
   "source": []
  }
 ],
 "metadata": {
  "kernelspec": {
   "display_name": ".venv",
   "language": "python",
   "name": "python3"
  },
  "language_info": {
   "codemirror_mode": {
    "name": "ipython",
    "version": 3
   },
   "file_extension": ".py",
   "mimetype": "text/x-python",
   "name": "python",
   "nbconvert_exporter": "python",
   "pygments_lexer": "ipython3",
   "version": "3.13.5"
  }
 },
 "nbformat": 4,
 "nbformat_minor": 5
}
