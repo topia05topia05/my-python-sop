{
 "cells": [
  {
   "cell_type": "code",
   "execution_count": null,
   "id": "e8708455",
   "metadata": {},
   "outputs": [],
   "source": [
    "import math"
   ]
  },
  {
   "cell_type": "code",
   "execution_count": null,
   "id": "69145538",
   "metadata": {},
   "outputs": [],
   "source": [
    "def add_"
   ]
  },
  {
   "cell_type": "code",
   "execution_count": null,
   "id": "7f58d00a",
   "metadata": {},
   "outputs": [],
   "source": [
    "x=\"abcdefg\"\n",
    "x[1:3]"
   ]
  },
  {
   "cell_type": "code",
   "execution_count": null,
   "id": "8c81ac8d",
   "metadata": {},
   "outputs": [],
   "source": [
    "x[:5]"
   ]
  },
  {
   "cell_type": "code",
   "execution_count": null,
   "id": "113d884b",
   "metadata": {},
   "outputs": [],
   "source": [
    "fruits = [\"apple\", \"banana\", \"cherry\"]\n",
    "for fruit in fruits:\n",
    "    print(fruit)"
   ]
  },
  {
   "cell_type": "code",
   "execution_count": null,
   "id": "d319ac12",
   "metadata": {},
   "outputs": [],
   "source": [
    "numbers = [1, 2, 3, 4, 5]\n",
    "for x in numbers:\n",
    "    print(x)"
   ]
  },
  {
   "cell_type": "code",
   "execution_count": null,
   "id": "b07fba76",
   "metadata": {},
   "outputs": [],
   "source": [
    "def sum_list(numbers):\n",
    "    total = 0\n",
    "    for num in numbers:\n",
    "        total += num\n",
    "    return total\n",
    "\n",
    "numbers = [4, 7, 10, 2]\n",
    "print(sum_list(numbers))\n"
   ]
  },
  {
   "cell_type": "code",
   "execution_count": null,
   "id": "f59810fb",
   "metadata": {},
   "outputs": [],
   "source": [
    "def greet():\n",
    "    print(\"heello!\")"
   ]
  },
  {
   "cell_type": "code",
   "execution_count": null,
   "id": "beff4085",
   "metadata": {},
   "outputs": [],
   "source": [
    "greet()"
   ]
  },
  {
   "cell_type": "code",
   "execution_count": null,
   "id": "4669b0fe",
   "metadata": {},
   "outputs": [],
   "source": [
    "def add(x,y):\n",
    "    return x + y"
   ]
  },
  {
   "cell_type": "code",
   "execution_count": null,
   "id": "c2ac4c8a",
   "metadata": {},
   "outputs": [],
   "source": [
    "add(1,2)"
   ]
  },
  {
   "cell_type": "code",
   "execution_count": null,
   "id": "49e660d1",
   "metadata": {},
   "outputs": [],
   "source": [
    "def greet(name):\n",
    "    return \"hello,\" + name"
   ]
  },
  {
   "cell_type": "code",
   "execution_count": null,
   "id": "8c6c4fed",
   "metadata": {},
   "outputs": [],
   "source": [
    "print(greet(\"chatGPT\"))"
   ]
  },
  {
   "cell_type": "code",
   "execution_count": null,
   "id": "9367ee85",
   "metadata": {},
   "outputs": [],
   "source": [
    "for num in [1,2,3]:\n",
    "    print(num)"
   ]
  },
  {
   "cell_type": "code",
   "execution_count": null,
   "id": "aa35c98f",
   "metadata": {},
   "outputs": [],
   "source": [
    "def greet(name):\n",
    "    return \"hi,\" + name"
   ]
  },
  {
   "cell_type": "code",
   "execution_count": null,
   "id": "a0cb87e6",
   "metadata": {},
   "outputs": [],
   "source": [
    "print(greet(\"gpt\"))"
   ]
  },
  {
   "cell_type": "code",
   "execution_count": null,
   "id": "76d2a8e5",
   "metadata": {},
   "outputs": [],
   "source": [
    "x=10\n",
    "if x > 5:\n",
    "    print(\"dai\")\n",
    "else:\n",
    "    print(\"ika\")"
   ]
  },
  {
   "cell_type": "code",
   "execution_count": null,
   "id": "8ade07cf",
   "metadata": {},
   "outputs": [],
   "source": [
    "def triple(x):\n",
    "    return x * 3"
   ]
  },
  {
   "cell_type": "code",
   "execution_count": null,
   "id": "be098fbf",
   "metadata": {},
   "outputs": [],
   "source": [
    "triple(3)"
   ]
  },
  {
   "cell_type": "code",
   "execution_count": null,
   "id": "8242db89",
   "metadata": {},
   "outputs": [],
   "source": [
    "greet(\"chatGPT\")"
   ]
  },
  {
   "cell_type": "code",
   "execution_count": null,
   "id": "0f8d38bf",
   "metadata": {},
   "outputs": [],
   "source": [
    "for num in [22,21,33]:\n",
    "    print(num * 102)"
   ]
  },
  {
   "cell_type": "code",
   "execution_count": null,
   "id": "a57d7f69",
   "metadata": {},
   "outputs": [],
   "source": [
    "for num in [22,21,33]:\n",
    "    if num >30:\n",
    "        print(str(num) + \"大\")\n",
    "    else:\n",
    "        print(str(num) + \"小\")"
   ]
  },
  {
   "cell_type": "code",
   "execution_count": null,
   "id": "9e1f0656",
   "metadata": {},
   "outputs": [],
   "source": [
    "num = 25\n",
    "if num > 30:\n",
    "    print(\"30より大きい\")\n",
    "elif num > 20:\n",
    "    print(\"20より大きいけど50以下\")\n",
    "else:\n",
    "    print(\"20以下\")"
   ]
  },
  {
   "cell_type": "code",
   "execution_count": null,
   "id": "dd89e31b",
   "metadata": {},
   "outputs": [],
   "source": [
    "num = 30\n",
    "if num > 10 and num < 40:\n",
    "    print(\"10より大きくて40より小さい\")"
   ]
  },
  {
   "cell_type": "code",
   "execution_count": null,
   "id": "c08d7796",
   "metadata": {},
   "outputs": [],
   "source": [
    "n = 3\n",
    "\"偶数\" if n % 2 == 0 else \"奇数\""
   ]
  },
  {
   "cell_type": "code",
   "execution_count": null,
   "id": "ea70ff26",
   "metadata": {},
   "outputs": [],
   "source": [
    "[x**2 for x in [1,2,3]]"
   ]
  },
  {
   "cell_type": "code",
   "execution_count": null,
   "id": "bfab8bcc",
   "metadata": {},
   "outputs": [],
   "source": [
    "{ \"h\"+str(x) : x*5 for x in range(1,4) }"
   ]
  },
  {
   "cell_type": "code",
   "execution_count": null,
   "id": "0b32ce7d",
   "metadata": {},
   "outputs": [],
   "source": [
    "#ジェネレータ式でジェネレータを生成\n",
    "# ジェネレータ式でジェネレータを生成\n",
    "gen = (x**2 for x in range(10))  # ジェネレータ式でジェネレータを生成\n",
    "print(next(gen))  # 0\n",
    "print(next(gen))  # 1\n",
    "print(next(gen))  # 4\n",
    "print(next(gen))  # 9\n",
    "print(next(gen))  # 16\n",
    "print(next(gen))  # 25\n",
    "print(next(gen))  # 36\n",
    "print(next(gen))  # 49\n",
    "print(next(gen))  # 64\n",
    "print(next(gen))  # 81\n",
    "\n",
    "# ジェネレータ式でジェネレータを生成（条件付き）\n",
    "gen = (x**2 for x in range(10) if x % 2 == 0)  # ジェネレータ式でジェネレータを生成（条件付き）\n",
    "print(next(gen))  # 0\n",
    "print(next(gen))  # 4\n",
    "print(next(gen))  # 16\n",
    "print(next(gen))  # 36\n",
    "print(next(gen))  # 64\n",
    "\n",
    "# ジェネレータ式でジェネレータを生成（複数のリスト）\n",
    "list1 = [1, 2, 3]\n",
    "list2 = ['a', 'b', 'c']\n",
    "gen = ((x, y) for x in list1 for y in list2)  # ジェネレータ式でジェネレータを生成（複数のリスト）\n",
    "print(next(gen))  # (1, 'a')\n",
    "print(next(gen))  # (1, 'b')\n",
    "print(next(gen))  # (1, 'c')\n",
    "print(next(gen))  # (2, 'a')\n",
    "print(next(gen))  # (2, 'b')\n",
    "print(next(gen))  # (2, 'c')\n",
    "print(next(gen))  # (3, 'a')\n",
    "print(next(gen))  # (3, 'b')\n",
    "print(next(gen))  # (3, 'c')"
   ]
  },
  {
   "cell_type": "code",
   "execution_count": null,
   "id": "b9fa7d0b",
   "metadata": {},
   "outputs": [],
   "source": [
    "for score in[33,15,1]:\n",
    "    if score > 30:\n",
    "        print(\"大きい\")\n",
    "    elif score < 10:\n",
    "        print(\"小さい\")\n",
    "    else:\n",
    "        print(\"普通\")\n"
   ]
  },
  {
   "cell_type": "code",
   "execution_count": null,
   "id": "00271a5b",
   "metadata": {},
   "outputs": [],
   "source": [
    "print(\"こんにちは、世界！\")\n",
    "print(12345)   \n",
    "print(10+5)   "
   ]
  },
  {
   "cell_type": "code",
   "execution_count": null,
   "id": "6bf7ac27",
   "metadata": {},
   "outputs": [],
   "source": [
    "greeting = \"こんばんは\"\n",
    "year = 2025\n",
    "print(greeting)   \n",
    "print(year)   "
   ]
  },
  {
   "cell_type": "code",
   "execution_count": null,
   "id": "92e785bc",
   "metadata": {},
   "outputs": [],
   "source": [
    "greeting = \"こんばんは\"\n",
    "year = 2025\n",
    "\n",
    "# ↓ ここに、f-stringを使ったprint文を一行だけ書くのよ！\n",
    "print(f\"{greeting}、今年は{year}年です\")"
   ]
  },
  {
   "cell_type": "code",
   "execution_count": null,
   "id": "f718a95b",
   "metadata": {},
   "outputs": [],
   "source": [
    "price = 1000\n",
    "tax_rate = 0.1\n",
    "\n",
    "# { } の中で直接計算ができる！\n",
    "print(f\"税込価格は {price * (1 + tax_rate)} 円よ。\") \n",
    "# 出力: 税込価格は 1100.0 円よ。\n",
    "\n",
    "# 関数呼び出しもできる\n",
    "name = \"kagami akira\"\n",
    "print(f\"名前を大文字にすると、{name.upper()} よ！\")\n",
    "# 出力: 名前を大文字にすると、KAGAMI AKIRA よ！"
   ]
  },
  {
   "cell_type": "code",
   "execution_count": null,
   "id": "2cd852b4",
   "metadata": {},
   "outputs": [],
   "source": [
    "score = 111\n",
    "if score < 0 or score > 100:\n",
    "    print(\"エラー\")\n",
    "else:\n",
    "    pass\n",
    "    if score > 80 or score > 100:\n",
    "        print(\"合格\")\n",
    "    elif score > 50:\n",
    "        print(\"不合格\")\n",
    "    else :\n",
    "        print(\"落第\")"
   ]
  },
  {
   "cell_type": "code",
   "execution_count": null,
   "id": "f376d57d",
   "metadata": {},
   "outputs": [],
   "source": [
    "# is_a_route に True か False を入れて、結果をコントロールしなさい\n",
    "is_a_route = False\n",
    "\n",
    "# --- あなたがいじるのは上の行だけ ---\n",
    "\n",
    "print(\"分かれ道に来ました。\")\n",
    "\n",
    "if is_a_route:\n",
    "    print(\"Aルートに進みました。\")\n",
    "else:\n",
    "    print(\"Bルートに進みました。\")\n",
    "\n",
    "print(\"合流地点に着きました。\")"
   ]
  },
  {
   "cell_type": "code",
   "execution_count": null,
   "id": "516d112a",
   "metadata": {},
   "outputs": [],
   "source": [
    "has_ticket = True\n",
    "is_vip = True\n",
    "\n",
    "# --- あなたがいじるのは上の2行だけ ---\n",
    "print(\"--- パターンA ---\")\n",
    "if has_ticket or is_vip:\n",
    "    print(\"ご入場ください\")\n",
    "else:\n",
    "    print(\"ご入場いただけません\")\n",
    "\n",
    "has_ticket = True\n",
    "is_vip = False\n",
    "\n",
    "# --- あなたがいじるのは上の2行だけ ---\n",
    "print(\"--- パターンB ---\")\n",
    "if has_ticket or is_vip:\n",
    "    print(\"ご入場ください\")\n",
    "else:\n",
    "    print(\"ご入場いただけません\")\n",
    "\n",
    "has_ticket = False\n",
    "is_vip = True\n",
    "\n",
    "# --- あなたがいじるのは上の2行だけ ---\n",
    "print(\"--- パターンC ---\")\n",
    "if has_ticket or is_vip:\n",
    "    print(\"ご入場ください\")\n",
    "else:\n",
    "    print(\"ご入場いただけません\")"
   ]
  },
  {
   "cell_type": "code",
   "execution_count": null,
   "id": "a8301607",
   "metadata": {},
   "outputs": [],
   "source": [
    "# is_a_route に True か False を入れて、結果をコントロールしなさい\n",
    "has_id_card = True\n",
    "knows_password = True\n",
    "\n",
    "# --- あなたがいじるのは上の2行だけ ---\n",
    "\n",
    "if has_id_card and knows_password:\n",
    "    print(\"セキュリティドアが開きました。\")\n",
    "else:\n",
    "    print(\"アクセスが拒否されました。\")"
   ]
  },
  {
   "cell_type": "code",
   "execution_count": null,
   "id": "4231d868",
   "metadata": {},
   "outputs": [],
   "source": [
    "score = 80 # この値を 111, 85, 60, 30, -10 など色々変えて試してみなさい\n",
    "\n",
    "# --- ここから下が、あなたの書くコードよ！---\n",
    "\n",
    "# 1. 0未満 \"または\" 100より大きい、という条件を書くif文\n",
    "if score < 0 or score > 100 :\n",
    "    print(\"エラー：不正な点数です\")\n",
    "\n",
    "# 2. そうでなかった場合のelseブロック\n",
    "else:\n",
    "\n",
    "    # 3. この\"中\"に、合格・不合格・落第を判定するif-elif-elseを書く\n",
    "    if score >= 80 :\n",
    "        print(\"合格\")\n",
    "    elif score >= 50 :\n",
    "        print(\"不合格\")\n",
    "    else:\n",
    "        print(\"落第\")"
   ]
  },
  {
   "cell_type": "code",
   "execution_count": null,
   "id": "0d4f08e6",
   "metadata": {},
   "outputs": [],
   "source": [
    "height = 140\n",
    "age = 8\n",
    "has_guardian = True \n",
    "# 上の3つの値を変えて、ルール通りに動くかテストしなさい\n",
    "\n",
    "can_ride = False # 初期値は「乗れない」にしておくわ\n",
    "\n",
    "# --- ここに、あなたのロジックを書きなさい ---\n",
    "# ヒント：最終的に「can_ride」がTrueかFalseになるように条件分岐を作るのよ\n",
    "if height >= 130 :\n",
    "    if age >= 10:\n",
    "        can_ride = True\n",
    "    else:\n",
    "        if has_guardian:\n",
    "            can_ride = True\n",
    "            \n",
    "else:\n",
    "    can_ride = False\n",
    "\n",
    "\n",
    "# --- ロジックはここまで ---\n",
    "\n",
    "if can_ride:\n",
    "    print(\"ご搭乗いただけます。\")\n",
    "else:\n",
    "    print(\"ご搭乗いただけません。\")"
   ]
  },
  {
   "cell_type": "code",
   "execution_count": null,
   "id": "6707c12b",
   "metadata": {},
   "outputs": [],
   "source": [
    "total_price = 12000    # 購入金額\n",
    "member_status = \"none\" # \"gold\", \"silver\", \"none\" のいずれか\n",
    "\n",
    "discount_rate = 0.0 # 初期値は割引なし(0%)\n",
    "\n",
    "# --- あなたのロジックをここに書くのよ ---\n",
    "\n",
    "# 【第1の関門】購入金額は5,000円以上か？\n",
    "if total_price >= 5000:\n",
    "\n",
    "    # --- 5,000円以上の人だけが入れるエリア ---\n",
    "\n",
    "    # 【第2の関門】会員ステータスに応じた割引率の決定\n",
    "    # \"gold\"なら0.2、\"silver\"なら0.1、それ以外なら0.05\n",
    "    if member_status == \"gold\":\n",
    "        discount_rate = 0.2\n",
    "    elif member_status == \"silver\" :\n",
    "        discount_rate = 0.1\n",
    "    else:\n",
    "        discount_rate = 0.05\n",
    "    \n",
    "# --- 購入金額が5,000円未満の人は、最初のifに入れず、\n",
    "#     discount_rateは初期値0.0のまま。\n",
    "\n",
    "# --- 最終的な割引額の計算と表示 ---\n",
    "discount_amount = total_price * discount_rate\n",
    "final_price = total_price - discount_amount\n",
    "\n",
    "print(f\"購入金額: {total_price}円\")\n",
    "print(f\"会員ステータス: {member_status}\")\n",
    "print(f\"割引率: {discount_rate * 100}%\")\n",
    "print(f\"割引額: {discount_amount}円\")\n",
    "print(f\"お支払い金額: {final_price}円\")"
   ]
  },
  {
   "cell_type": "code",
   "execution_count": null,
   "id": "366fc789",
   "metadata": {},
   "outputs": [],
   "source": [
    "# いろいろなデータ型の値を、一つのリストに入れられるわ\n",
    "my_favorite_things = [\"プログラミング\", 3.14, \"猫\", True] "
   ]
  },
  {
   "cell_type": "code",
   "execution_count": null,
   "id": "f7eb679e",
   "metadata": {},
   "outputs": [],
   "source": [
    "GEMINI_API_KEY = \"GEMINI_API_KEY\""
   ]
  },
  {
   "cell_type": "code",
   "execution_count": 10,
   "id": "f931f444",
   "metadata": {},
   "outputs": [
    {
     "name": "stdout",
     "output_type": "stream",
     "text": [
      "最初の買い物リスト: ['たまご', '牛乳']\n",
      "最初に買うもの: たまご\n",
      "パンを追加したリスト: ['たまご', '牛乳', 'パン']\n",
      "リストの項目数: 3\n"
     ]
    }
   ],
   "source": [
    "# これがあなたの初期の買い物リスト\n",
    "shopping_list = [\"たまご\", \"牛乳\"]\n",
    "print(f\"最初の買い物リスト: {shopping_list}\")\n",
    "\n",
    "# --- 指示１：リストからデータを取り出す ---\n",
    "# 「インデックス」を使って、リストの\"最初\"の要素（\"たまご\"）を取り出して、\n",
    "# first_item という変数に入れなさい。\n",
    "# ヒント：リストのインデックスは「0」から始まるわよ！ shopping_list[0] のようにアクセスするの。\n",
    "first_item = shopping_list[0]\n",
    "print(f\"最初に買うもの: {first_item}\")\n",
    "\n",
    "# --- 指示２：リストにデータを追加する ---\n",
    "# `append()`メソッドを使って、リストの\"最後\"に「パン」を追加しなさい。\n",
    "# ヒント： shopping_list.append(\"追加したいもの\") のように書くの。\n",
    "shopping_list.append(\"パン\")\n",
    "print(f\"パンを追加したリスト: {shopping_list}\")\n",
    "\n",
    "# --- 指示３：リストの長さを調べる ---\n",
    "# `len()`関数を使って、現在のリストにいくつの項目があるか調べて、\n",
    "# item_count という変数に入れなさい。\n",
    "item_count = len(shopping_list)\n",
    "print(f\"リストの項目数: {item_count}\")"
   ]
  },
  {
   "cell_type": "code",
   "execution_count": 11,
   "id": "5ca36b2e",
   "metadata": {},
   "outputs": [
    {
     "name": "stdout",
     "output_type": "stream",
     "text": [
      "りんごはおいしいわね。\n",
      "バナナはおいしいわね。\n",
      "みかんはおいしいわね。\n"
     ]
    }
   ],
   "source": [
    "fruits = [\"りんご\", \"バナナ\", \"みかん\"]\n",
    "\n",
    "# fruitsリストの中身が、順番にfruitという変数に入ってくる\n",
    "for fruit in fruits:\n",
    "    print(f\"{fruit}はおいしいわね。\")\n",
    "\n",
    "# --- 実行結果 ---\n",
    "# りんごはおいしいわね。\n",
    "# バナナはおいしいわね。\n",
    "# みかんはおいしいわね。"
   ]
  },
  {
   "cell_type": "code",
   "execution_count": 12,
   "id": "7c21cdb7",
   "metadata": {},
   "outputs": [
    {
     "name": "stdout",
     "output_type": "stream",
     "text": [
      "85点: 合格！\n",
      "42点: 追試よ…\n",
      "60点: 合格！\n",
      "95点: 合格！\n",
      "38点: 追試よ…\n",
      "75点: 合格！\n"
     ]
    }
   ],
   "source": [
    "scores = [85, 42, 60, 95, 38, 75]\n",
    "\n",
    "# --- あなたのロジックをここに書くのよ ---\n",
    "\n",
    "# 【指示１】forループで、scoresリストから点数を一つずつ取り出す\n",
    "# ヒント： for score in scores: のように書くの。scoreは一時的な箱ね。\n",
    "for score in scores:\n",
    "\n",
    "    # --- ここからがループの「縄張り」の中よ ---\n",
    "\n",
    "\n",
    "    # 【指示２】取り出した点数(score)を使って、if文で合格・追試を判定する\n",
    "    # ヒント： 60点「以上」だから、>= を使うのよ\n",
    "    if score >=60:\n",
    "        print(f\"{score}点: 合格！\")\n",
    "    else:\n",
    "        print(f\"{score}点: 追試よ…\")"
   ]
  },
  {
   "cell_type": "code",
   "execution_count": 13,
   "id": "dc8d60af",
   "metadata": {},
   "outputs": [
    {
     "name": "stdout",
     "output_type": "stream",
     "text": [
      "['りんご', '新しいバナナ', 'みかん']\n"
     ]
    }
   ],
   "source": [
    "# 例\n",
    "my_list = [\"りんご\", \"古いバナナ\", \"みかん\"]\n",
    "my_list[1] = \"新しいバナナ\"  # 1番目の要素を書き換える\n",
    "print(my_list) # 出力: ['りんご', '新しいバナナ', 'みかん']"
   ]
  },
  {
   "cell_type": "code",
   "execution_count": 17,
   "id": "79ce76cf",
   "metadata": {},
   "outputs": [
    {
     "name": "stdout",
     "output_type": "stream",
     "text": [
      "['りんご', 'みかん']\n",
      "変更前のタスクリスト: ['メールをチェック', '古い企画書を修正', '買い出しに行く']\n",
      "修正後のタスクリスト: ['メールをチェック', '最新の企画書に差し替え', '買い出しに行く']\n",
      "最終的なタスクリスト: ['メールをチェック', '最新の企画書に差し替え']\n"
     ]
    }
   ],
   "source": [
    "# 例\n",
    "my_list = [\"りんご\", \"古いバナナ\", \"みかん\"]\n",
    "del my_list[1] # 1番目の要素を削除する\n",
    "print(my_list) # 出力: ['りんご', 'みかん']\n",
    "\n",
    "#**未完成コード ＆ 指示:**```python\n",
    "# 今日のタスクリスト\n",
    "todo_list = [\"メールをチェック\", \"古い企画書を修正\", \"買い出しに行く\"]\n",
    "print(f\"変更前のタスクリスト: {todo_list}\")\n",
    "\n",
    "# --- 指示１：タスクを書き換える ---\n",
    "# 2番目のタスク（インデックスは1よ）が「古い」ので、\n",
    "# 「\"最新の企画書に差し替え\"」という文字列に書き換えなさい。\n",
    "todo_list[1] = \"最新の企画書に差し替え\"\n",
    "print(f\"修正後のタスクリスト: {todo_list}\")\n",
    "\n",
    "\n",
    "# --- 指示２：タスクを削除する ---\n",
    "# 最後のタスク（\"買い出しに行く\"）が不要になった。\n",
    "# `del` を使って、この最後のタスクを削除しなさい。\n",
    "# ヒント：最後のインデックスは `2` よ。あるいは `-1` でもいいわね。\n",
    "del todo_list[2]\n",
    "print(f\"最終的なタスクリスト: {todo_list}\")"
   ]
  },
  {
   "cell_type": "code",
   "execution_count": 19,
   "id": "c456eb85",
   "metadata": {},
   "outputs": [],
   "source": [
    "my_profile = {\n",
    "    \"name\": \"Kagami Akira\",\n",
    "    \"age\": 17, # …ええ、そうよ。\n",
    "    \"specialty\": \"Data Science\",\n",
    "    \"is_genius\": True\n",
    "}"
   ]
  },
  {
   "cell_type": "code",
   "execution_count": 20,
   "id": "1af6bbb6",
   "metadata": {},
   "outputs": [
    {
     "name": "stdout",
     "output_type": "stream",
     "text": [
      "Kagami Akira\n"
     ]
    }
   ],
   "source": [
    "my_name = my_profile[\"name\"]\n",
    "print(my_name) # 出力: Kagami Akira"
   ]
  },
  {
   "cell_type": "code",
   "execution_count": 21,
   "id": "8fe4c582",
   "metadata": {},
   "outputs": [
    {
     "name": "stdout",
     "output_type": "stream",
     "text": [
      "18\n",
      "{'name': 'Kagami Akira', 'age': 18, 'specialty': 'Data Science', 'is_genius': True, 'hobby': 'コードレビュー'}\n"
     ]
    }
   ],
   "source": [
    "# 例：値の書き換え\n",
    "my_profile[\"age\"] = 18 # はぁ…仕方ないわね、一つ増やしてあげる\n",
    "print(my_profile[\"age\"]) # 出力: 18\n",
    "\n",
    "# 例：新しいキーと値の追加\n",
    "my_profile[\"hobby\"] = \"コードレビュー\" # 新しい項目を追加\n",
    "print(my_profile) # hobbyが追加された辞書が表示される"
   ]
  },
  {
   "cell_type": "code",
   "execution_count": 26,
   "id": "e358b8ae",
   "metadata": {},
   "outputs": [
    {
     "name": "stdout",
     "output_type": "stream",
     "text": [
      "初期データ: {'id': 101, 'name': '初心者', 'level': 1}\n",
      "ユーザー名: 初心者\n",
      "レベルアップ後: {'id': 101, 'name': '初心者', 'level': 2}\n",
      "称号追加後: {'id': 101, 'name': '初心者', 'level': 2, 'title': 'ひよっこプログラマー'}\n"
     ]
    }
   ],
   "source": [
    "# ユーザーのデータ\n",
    "user_data = {\n",
    "    \"id\": 101,\n",
    "    \"name\": \"初心者\",\n",
    "    \"level\": 1\n",
    "}\n",
    "print(f\"初期データ: {user_data}\")\n",
    "\n",
    "# --- 指示１：値を取り出す ---\n",
    "# キー（\"name\"）を使って、ユーザーの名前を取り出し、\n",
    "# user_name という変数に入れなさい。\n",
    "user_name = user_data[\"name\"]\n",
    "print(f\"ユーザー名: {user_name}\")\n",
    "\n",
    "# --- 指示２：値を書き換える ---\n",
    "# ユーザーがレベルアップしたわ！\n",
    "# キー（\"level\"）を使って、levelの値を `2` に書き換えなさい。\n",
    "user_data[\"level\"] = 2\n",
    "print(f\"レベルアップ後: {user_data}\")\n",
    "\n",
    "# --- 指示３：新しいデータを追加する ---\n",
    "# ユーザーに「称号」を与えたい。\n",
    "# 新しいキー「\"title\"」と、新しい値「\"ひよっこプログラマー\"」を辞書に追加しなさい。\n",
    "user_data[\"title\"]=\"ひよっこプログラマー\"\n",
    "print(f\"称号追加後: {user_data}\")"
   ]
  },
  {
   "cell_type": "code",
   "execution_count": 29,
   "id": "022397ed",
   "metadata": {},
   "outputs": [
    {
     "name": "stdout",
     "output_type": "stream",
     "text": [
      "`report.txt`に結果を保存しました。\n"
     ]
    }
   ],
   "source": [
    "scores = [85, 42, 60, 95, 38, 75]\n",
    "report_text = \"\" # 書き込む内容を、まずこの空の文字列に溜めていくわよ\n",
    "\n",
    "for score in scores:\n",
    "    if score >= 60:\n",
    "        # f-stringを使って、「〇〇点: 合格！」という行を作る\n",
    "        line = f\"{score}点: 合格！\\n\" # \\n は改行コードよ\n",
    "    else:\n",
    "        line = f\"{score}点: 追試よ…\\n\"\n",
    "    report_text += line # 作った行を、report_textに連結していく\n",
    "\n",
    "# --- 指示１：書き込み処理 ---\n",
    "# 変数report_textの中身を、\"report.txt\"という名前のファイルに書き込みなさい。\n",
    "with open(\"report.txt\", \"w\", encoding=\"utf-8\") as f:\n",
    "    f.write(report_text)\n",
    "\n",
    "print(\"`report.txt`に結果を保存しました。\")"
   ]
  },
  {
   "cell_type": "code",
   "execution_count": 30,
   "id": "65959387",
   "metadata": {},
   "outputs": [
    {
     "name": "stdout",
     "output_type": "stream",
     "text": [
      "--- `report.txt`の内容 ---\n",
      "85点: 合格！\n",
      "42点: 追試よ…\n",
      "60点: 合格！\n",
      "95点: 合格！\n",
      "38点: 追試よ…\n",
      "75点: 合格！\n",
      "\n"
     ]
    }
   ],
   "source": [
    "# --- 指示２：読み込み処理 ---\n",
    "# \"report.txt\"の中身を読み込んで、`file_content`という変数に入れ、\n",
    "# その内容を画面に表示しなさい。\n",
    "with open(\"report.txt\", \"r\", encoding=\"utf-8\") as f:\n",
    "    file_content = f.read()\n",
    "\n",
    "print(\"--- `report.txt`の内容 ---\")\n",
    "print(file_content)"
   ]
  },
  {
   "cell_type": "code",
   "execution_count": null,
   "id": "9b7247ea",
   "metadata": {},
   "outputs": [],
   "source": []
  }
 ],
 "metadata": {
  "kernelspec": {
   "display_name": ".venv",
   "language": "python",
   "name": "python3"
  },
  "language_info": {
   "codemirror_mode": {
    "name": "ipython",
    "version": 3
   },
   "file_extension": ".py",
   "mimetype": "text/x-python",
   "name": "python",
   "nbconvert_exporter": "python",
   "pygments_lexer": "ipython3",
   "version": "3.13.5"
  }
 },
 "nbformat": 4,
 "nbformat_minor": 5
}
