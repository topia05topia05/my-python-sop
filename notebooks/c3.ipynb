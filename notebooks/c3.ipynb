{
 "cells": [
  {
   "cell_type": "code",
   "execution_count": null,
   "id": "563afc3f",
   "metadata": {},
   "outputs": [],
   "source": [
    "# pandasを使って、CSVファイルを読み込む\n"
   ]
  },
  {
   "cell_type": "code",
   "execution_count": null,
   "id": "e4c341c3",
   "metadata": {},
   "outputs": [],
   "source": [
    "#関数の外側でにvalueに100を代入\n",
    "value = 100\n",
    "\n",
    "def chan"
   ]
  },
  {
   "cell_type": "code",
   "execution_count": 1,
   "id": "e8708455",
   "metadata": {},
   "outputs": [],
   "source": [
    "import math"
   ]
  },
  {
   "cell_type": "code",
   "execution_count": null,
   "id": "69145538",
   "metadata": {},
   "outputs": [],
   "source": [
    "def add_"
   ]
  }
 ],
 "metadata": {
  "kernelspec": {
   "display_name": ".venv",
   "language": "python",
   "name": "python3"
  },
  "language_info": {
   "codemirror_mode": {
    "name": "ipython",
    "version": 3
   },
   "file_extension": ".py",
   "mimetype": "text/x-python",
   "name": "python",
   "nbconvert_exporter": "python",
   "pygments_lexer": "ipython3",
   "version": "3.13.5"
  }
 },
 "nbformat": 4,
 "nbformat_minor": 5
}
