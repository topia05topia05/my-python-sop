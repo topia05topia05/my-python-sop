{
 "cells": [
  {
   "cell_type": "code",
   "execution_count": null,
   "id": "563afc3f",
   "metadata": {},
   "outputs": [],
   "source": [
    "# pandasを使って、CSVファイルを読み込む\n"
   ]
  },
  {
   "cell_type": "code",
   "execution_count": null,
   "id": "e4c341c3",
   "metadata": {},
   "outputs": [],
   "source": [
    "#関数の外側でにvalueに100を代入\n",
    "value = 100\n",
    "\n",
    "def chan"
   ]
  }
 ],
 "metadata": {
  "kernelspec": {
   "display_name": ".venv",
   "language": "python",
   "name": "python3"
  },
  "language_info": {
   "name": "python",
   "version": "3.13.5"
  }
 },
 "nbformat": 4,
 "nbformat_minor": 5
}
