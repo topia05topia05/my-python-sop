{
 "cells": [
  {
   "cell_type": "code",
   "execution_count": 1,
   "id": "4a1f8861",
   "metadata": {},
   "outputs": [
    {
     "name": "stdout",
     "output_type": "stream",
     "text": [
      "OK\n",
      "OK\n"
     ]
    }
   ],
   "source": [
    "for num in [10, 20, 30]:\n",
    "    if num > 15:\n",
    "        print(\"OK\")\n"
   ]
  },
  {
   "cell_type": "code",
   "execution_count": 2,
   "id": "3d506195",
   "metadata": {},
   "outputs": [
    {
     "name": "stdout",
     "output_type": "stream",
     "text": [
      "apple\n",
      "banana\n",
      "cherry\n"
     ]
    }
   ],
   "source": [
    "fruits = [\"apple\", \"banana\", \"cherry\"]\n",
    "\n",
    "for fruit in fruits:\n",
    "    print(fruit)"
   ]
  },
  {
   "cell_type": "code",
   "execution_count": 3,
   "id": "e6835109",
   "metadata": {},
   "outputs": [
    {
     "name": "stdout",
     "output_type": "stream",
     "text": [
      "apple\n"
     ]
    }
   ],
   "source": [
    "print(fruits[0])  # → \"apple\"\n"
   ]
  },
  {
   "cell_type": "code",
   "execution_count": 4,
   "id": "9594e8ad",
   "metadata": {},
   "outputs": [],
   "source": [
    "fruits.append(\"orange\")      # 末尾に追加\n",
    "fruits.remove(\"banana\")      # 指定した値を削除\n"
   ]
  },
  {
   "cell_type": "code",
   "execution_count": 7,
   "id": "630dc84b",
   "metadata": {},
   "outputs": [
    {
     "name": "stdout",
     "output_type": "stream",
     "text": [
      "orange\n"
     ]
    }
   ],
   "source": [
    "print(fruits[2])"
   ]
  },
  {
   "cell_type": "code",
   "execution_count": 11,
   "id": "95978391",
   "metadata": {},
   "outputs": [
    {
     "name": "stdout",
     "output_type": "stream",
     "text": [
      "60\n"
     ]
    }
   ],
   "source": [
    "def sum_list(numbers):\n",
    "    total = 0\n",
    "    for num in numbers:\n",
    "        total += num\n",
    "    return total\n",
    "\n",
    "scores = [10, 20, 30]\n",
    "print(sum_list(scores))  # → 60\n"
   ]
  },
  {
   "cell_type": "code",
   "execution_count": 14,
   "id": "af2d2bab",
   "metadata": {},
   "outputs": [
    {
     "name": "stdout",
     "output_type": "stream",
     "text": [
      "30\n"
     ]
    }
   ],
   "source": [
    "scores = [10, 20, 30]\n",
    "print(sum_list(scores))"
   ]
  },
  {
   "cell_type": "code",
   "execution_count": 13,
   "id": "2773c922",
   "metadata": {},
   "outputs": [
    {
     "name": "stdout",
     "output_type": "stream",
     "text": [
      "30\n"
     ]
    }
   ],
   "source": [
    "def sum_list(numbers):\n",
    "    total = 0\n",
    "    for num in numbers:\n",
    "        if num >= 30:\n",
    "            return num\n",
    "\n",
    "scores = [10, 20, 30]\n",
    "print(sum_list(scores))  \n"
   ]
  },
  {
   "cell_type": "code",
   "execution_count": null,
   "id": "a620f867",
   "metadata": {},
   "outputs": [],
   "source": []
  }
 ],
 "metadata": {
  "kernelspec": {
   "display_name": ".venv",
   "language": "python",
   "name": "python3"
  },
  "language_info": {
   "codemirror_mode": {
    "name": "ipython",
    "version": 3
   },
   "file_extension": ".py",
   "mimetype": "text/x-python",
   "name": "python",
   "nbconvert_exporter": "python",
   "pygments_lexer": "ipython3",
   "version": "3.13.5"
  }
 },
 "nbformat": 4,
 "nbformat_minor": 5
}
